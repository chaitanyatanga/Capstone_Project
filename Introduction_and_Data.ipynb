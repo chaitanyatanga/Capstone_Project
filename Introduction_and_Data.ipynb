{
 "cells": [
  {
   "cell_type": "markdown",
   "metadata": {},
   "source": [
<<<<<<< HEAD
    "## 1. Introduction <a id=\"introduction\"></a>"
=======
    "# 1. Introduction"
>>>>>>> d02c0e14664fde59ba3f1e2cf5d60284f0058e14
   ]
  },
  {
   "cell_type": "markdown",
   "metadata": {},
   "source": [
    "Toronto is the provincial capital of Ontario and the most populous city in Canada.The city is known for being the most multicultural in the world. One way to get to know the city and its people is through different ethnic foods.\n",
    "\n",
    "In this project we will try to understand the diversity of a neighborhood by leveraging venue data from Foursquare’s ‘Places API’ and ‘k-means clustering’ machine learning algorithm. \n",
<<<<<<< HEAD
    "\n",
    "**Stakeholders**:\n",
    "* This study would be aimed at stakeholders who are interested to use this analysis to understand the distribution of different cultures and cuisines in Toronto,this project can also be utilized by food vendors who are willing to open a new restaurant."
   ]
  },
  {
=======
    "This study would be aimed at stakeholders who are interested to use this quantifiable to understand the distribution of different cultures and cuisines in Toronto,this project can also be utilized by food vendors who are willing to open a new restaurant."
   ]
  },
  {
   "cell_type": "code",
   "execution_count": null,
   "metadata": {},
   "outputs": [],
   "source": []
  },
  {
>>>>>>> d02c0e14664fde59ba3f1e2cf5d60284f0058e14
   "cell_type": "markdown",
   "metadata": {},
   "source": [
    "## 2. Data Sources <a id='Data'></a>"
   ]
  },
  {
   "cell_type": "markdown",
   "metadata": {},
   "source": [
    "Based on definition of our problem the following sources will be needed for the analysis :"
   ]
  },
  {
   "cell_type": "markdown",
   "metadata": {},
   "source": [
    "1. **Toronto Neighborhoods List**\n",
    "\n",
    "    * Link: https://en.wikipedia.org/wiki/List_of_postal_codes_of_Canada:_M\n",
    "    * Description: The following page consists of a list of all the neighborhoods in a table including postcode and     borough that it belongs to.\n",
    "    * **[Beautiful Soup](https://www.crummy.com/software/BeautifulSoup/bs4/doc/)** package will be used to scrape this data from the page.\n",
    "2. **Latitude and Longitude of the Neighborhoods Approximate center**\n",
    "    * Link:'https://github.com/chaitanyatanga/IBM-Data-Science-Certfication/blob/master/Geospatial_Coordinates.csv'\n",
    "    * Description: The following file constsisting of Latitude,Longitude,Borough and Postcode which will be combined with Neighborhoods data. \n",
    "3. **Geopy**\n",
    "    * Link: https://geopy.readthedocs.io/en/stable/#\n",
    "    * Desceription: geopy is a Python client for several popular geocoding web services.geopy makes it easy for Python developers to locate the coordinates of addresses, cities, countries, and landmarks across the globe using third-party geocoders and other data sources.\n",
    "\n",
    "3. **Foursquare API**:\n",
    "    * Link: https://developer.foursquare.com/docs\n",
    "    * Description: Foursquare API, a location data provider, will be used to make RESTful API calls to retrieve data about venues in different neighborhoods. This is the link to Foursquare Venue Category Hierarchy. Venues retrieved from all the neighborhoods are categorized broadly into \"Arts & Entertainment\", \"College & University\", \"Event\", \"Food\", \"Nightlife Spot\", \"Outdoors & Recreation\", etc.\n",
<<<<<<< HEAD
    "\n",
    "    * An extract of an API call is as follows:\n",
    "       \n",
    "       \n",
    "       {'venue': {'id': '4d669cba83865481c948fa53',\n",
    "       'name': 'Images Salon & Spa',\n",
    "       'location': {'address': '8130 Sheppard Ave E',\n",
    "        'crossStreet': 'Morningside Ave',\n",
    "        'lat': 43.80228301948931,\n",
    "        'lng': -79.19856472801668,\n",
    "        'labeledLatLngs': [{'label': 'display',\n",
    "          'lat': 43.80228301948931,\n",
    "          'lng': -79.19856472801668}],\n",
    "        'distance': 595,\n",
    "        'postalCode': 'M1B 3W3',\n",
    "        'cc': 'CA',\n",
    "        'city': 'Toronto',\n",
    "        'state': 'ON',\n",
    "        'country': 'Canada',\n",
    "        'formattedAddress': ['8130 Sheppard Ave E (Morningside Ave)',\n",
    "         'Toronto ON M1B 3W3',\n",
    "         'Canada']}}\n",
    "        \n",
    "        We can extract information like latitude,longitude,venue_id etc.\n",
    "         "
=======
    "\n"
>>>>>>> d02c0e14664fde59ba3f1e2cf5d60284f0058e14
   ]
  }
 ],
 "metadata": {
  "kernelspec": {
   "display_name": "Python 3",
   "language": "python",
   "name": "python3"
  },
  "language_info": {
   "codemirror_mode": {
    "name": "ipython",
    "version": 3
   },
   "file_extension": ".py",
   "mimetype": "text/x-python",
   "name": "python",
   "nbconvert_exporter": "python",
   "pygments_lexer": "ipython3",
   "version": "3.7.4"
  }
 },
 "nbformat": 4,
 "nbformat_minor": 4
}
